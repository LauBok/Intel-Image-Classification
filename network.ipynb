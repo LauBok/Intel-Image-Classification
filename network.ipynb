{
 "nbformat": 4,
 "nbformat_minor": 2,
 "metadata": {
  "language_info": {
   "name": "python",
   "codemirror_mode": {
    "name": "ipython",
    "version": 3
   },
   "version": "3.7.3-final"
  },
  "orig_nbformat": 2,
  "file_extension": ".py",
  "mimetype": "text/x-python",
  "name": "python",
  "npconvert_exporter": "python",
  "pygments_lexer": "ipython3",
  "version": 3,
  "kernelspec": {
   "name": "python3",
   "display_name": "Python 3"
  }
 },
 "cells": [
  {
   "cell_type": "code",
   "execution_count": 15,
   "metadata": {},
   "outputs": [],
   "source": [
    "import tensorflow as tf\n",
    "from tensorflow import keras\n",
    "from ImageReader import ImageReader\n",
    "from compare import compare"
   ]
  },
  {
   "cell_type": "code",
   "execution_count": 2,
   "metadata": {},
   "outputs": [],
   "source": [
    "train_name, train_input, train_output = ImageReader.read(\"train\", onehot = False)"
   ]
  },
  {
   "cell_type": "code",
   "execution_count": 14,
   "metadata": {},
   "outputs": [],
   "source": [
    "test_name, test_input, test_output = ImageReader.read(\"test\", onehot = False)"
   ]
  },
  {
   "cell_type": "code",
   "execution_count": 69,
   "metadata": {},
   "outputs": [],
   "source": [
    "model = keras.models.Sequential([\n",
    "    keras.layers.MaxPool2D((2,2)),\n",
    "    keras.layers.Convolution2D(4, (8, 8), 4, activation = \"relu\"),\n",
    "    keras.layers.Convolution2D(8, (3, 3), 1, activation = \"relu\"),\n",
    "    keras.layers.Convolution2D(16, (3, 3), 1, activation = \"relu\"),\n",
    "    keras.layers.MaxPool2D((2,2)),\n",
    "    keras.layers.Flatten(),\n",
    "    keras.layers.Dense(512, activation = \"relu\"),\n",
    "    keras.layers.Dense(6, activation = \"relu\"),\n",
    "    keras.layers.Softmax()\n",
    "])"
   ]
  },
  {
   "cell_type": "code",
   "execution_count": 70,
   "metadata": {},
   "outputs": [
    {
     "output_type": "stream",
     "name": "stdout",
     "text": "Model: \"sequential_12\"\n_________________________________________________________________\nLayer (type)                 Output Shape              Param #   \n=================================================================\nmax_pooling2d_24 (MaxPooling multiple                  0         \n_________________________________________________________________\nconv2d_37 (Conv2D)           multiple                  772       \n_________________________________________________________________\nconv2d_38 (Conv2D)           multiple                  296       \n_________________________________________________________________\nconv2d_39 (Conv2D)           multiple                  1168      \n_________________________________________________________________\nmax_pooling2d_25 (MaxPooling multiple                  0         \n_________________________________________________________________\nflatten_12 (Flatten)         multiple                  0         \n_________________________________________________________________\ndense_24 (Dense)             multiple                  295424    \n_________________________________________________________________\ndense_25 (Dense)             multiple                  3078      \n_________________________________________________________________\nsoftmax_12 (Softmax)         multiple                  0         \n=================================================================\nTotal params: 300,738\nTrainable params: 300,738\nNon-trainable params: 0\n_________________________________________________________________\n"
    }
   ],
   "source": [
    "model.build(input_shape = (1, 150, 150, 3))\n",
    "model.summary()"
   ]
  },
  {
   "cell_type": "code",
   "execution_count": 72,
   "metadata": {},
   "outputs": [],
   "source": [
    "model.compile(\n",
    "    optimizer='rmsprop', \n",
    "    loss = tf.keras.losses.SparseCategoricalCrossentropy(from_logits=False),\n",
    "    metrics = ['accuracy']\n",
    ")"
   ]
  },
  {
   "cell_type": "code",
   "execution_count": 91,
   "metadata": {},
   "outputs": [
    {
     "output_type": "stream",
     "name": "stdout",
     "text": "Train on 14034 samples\nEpoch 1/5\n14034/14034 [==============================] - 13s 911us/sample - loss: 0.4020 - accuracy: 0.9431\nEpoch 2/5\n14034/14034 [==============================] - 12s 883us/sample - loss: 0.4033 - accuracy: 0.9426\nEpoch 3/5\n14034/14034 [==============================] - 13s 903us/sample - loss: 0.3985 - accuracy: 0.9461\nEpoch 4/5\n14034/14034 [==============================] - 13s 898us/sample - loss: 0.4049 - accuracy: 0.9422\nEpoch 5/5\n14034/14034 [==============================] - 18s 1ms/sample - loss: 0.4034 - accuracy: 0.9436\n"
    },
    {
     "output_type": "execute_result",
     "data": {
      "text/plain": "<tensorflow.python.keras.callbacks.History at 0x14a41c748>"
     },
     "metadata": {},
     "execution_count": 91
    }
   ],
   "source": [
    "model.fit(train_input, train_output, batch_size = 32, epochs = 5)"
   ]
  },
  {
   "cell_type": "code",
   "execution_count": 92,
   "metadata": {},
   "outputs": [
    {
     "output_type": "execute_result",
     "data": {
      "text/plain": "0.6273333333333333"
     },
     "metadata": {},
     "execution_count": 92
    }
   ],
   "source": [
    "compare(model.predict_classes(test_input), test_output)"
   ]
  },
  {
   "cell_type": "code",
   "execution_count": null,
   "metadata": {},
   "outputs": [],
   "source": []
  }
 ]
}